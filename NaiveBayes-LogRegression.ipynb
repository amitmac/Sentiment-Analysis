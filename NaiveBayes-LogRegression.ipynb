{
 "cells": [
  {
   "cell_type": "code",
   "execution_count": 1,
   "metadata": {
    "collapsed": true
   },
   "outputs": [],
   "source": [
    "path = \"/home/amit/Downloads/review-data/train_data.txt\""
   ]
  },
  {
   "cell_type": "code",
   "execution_count": 2,
   "metadata": {
    "collapsed": true
   },
   "outputs": [],
   "source": [
    "ratemap = {'1.0':0,'2.0':0,'3.0':0,'4.0':1,'5.0':1,'1':1,'0':0}"
   ]
  },
  {
   "cell_type": "code",
   "execution_count": 3,
   "metadata": {
    "collapsed": true
   },
   "outputs": [],
   "source": [
    "ratemap = {'1.0':0,'2.0':0,'3.0':0,'4.0':1,'5.0':1,'1':1,'0':0}\n",
    "data = open(path)\n",
    "X_train, y_train = [], []\n",
    "for line in data:\n",
    "    text = line.partition(\",\")\n",
    "    if text[0] in ratemap.keys():\n",
    "        X_train.append(text[2])\n",
    "        y_train.append(ratemap[text[0]])"
   ]
  },
  {
   "cell_type": "code",
   "execution_count": 4,
   "metadata": {
    "collapsed": false
   },
   "outputs": [
    {
     "name": "stdout",
     "output_type": "stream",
     "text": [
      "25166\n"
     ]
    }
   ],
   "source": [
    "print len(X_train)"
   ]
  },
  {
   "cell_type": "code",
   "execution_count": 5,
   "metadata": {
    "collapsed": false
   },
   "outputs": [
    {
     "name": "stdout",
     "output_type": "stream",
     "text": [
      "I picked up a dozen in Home Depot for less than $5. Same concept, just a lot cheaper!Two of them are holding a huge heavy shelf in my kitchen. The hole they make depends upon the weight of what they're holding. I'm sure it's pinhole sized if you're hanging something that weighs a few ounces (in which case, you don't need this - use a pushpin!)The holes from the shelf are bigger than pin-sized, but it IS a heavy shelf. The hole is still WAY smaller than the hole I'd make using any kind of a hook that would hold such a heavy shelf.It also takes a little practice to figure out where to hang the hooks (the drop of the hook is below where you might want the thing to actually hang.) This is a small detail, but if you need two of these things and you don't do it right, your object is gonna be crooked. But on the bright side, you won't have a huge hole to patch when you redo it!Recommended product (but look around for the knockoffs.\n",
      "\n",
      "1\n"
     ]
    }
   ],
   "source": [
    "print X_train[0]\n",
    "print y_train[0]"
   ]
  },
  {
   "cell_type": "code",
   "execution_count": 6,
   "metadata": {
    "collapsed": true
   },
   "outputs": [],
   "source": [
    "import re\n",
    "from nltk.corpus import stopwords\n",
    "stop = set(stopwords.words('english'))\n",
    "def tokenizer(text):\n",
    "    text = re.sub('<[^>]*>','',text)\n",
    "    smileys = re.findall('((?::|;|=)(?:-?)(?:[D|d|)|(|P|p|/|x|X]))',text)\n",
    "    text = re.sub('[\\W]+',' ',text.lower())\n",
    "    text += ' '.join(smileys).replace('-','')\n",
    "    tokenized = [w for w in text.split() if w not in stop]\n",
    "    return \" \".join(tokenized)"
   ]
  },
  {
   "cell_type": "code",
   "execution_count": 7,
   "metadata": {
    "collapsed": true
   },
   "outputs": [],
   "source": [
    "import numpy as np\n",
    "\n",
    "X = [tokenizer(text) for text in X_train]\n",
    "\n",
    "X_train = np.asarray(X)\n",
    "y_train = np.asarray(y_train)"
   ]
  },
  {
   "cell_type": "code",
   "execution_count": 11,
   "metadata": {
    "collapsed": true
   },
   "outputs": [],
   "source": [
    "from sklearn.feature_extraction.text import TfidfVectorizer\n",
    "from sklearn.naive_bayes import MultinomialNB\n",
    "from sklearn.pipeline import Pipeline\n",
    "\n",
    "def create_nb_ngram_model():\n",
    "    tfidf_ngrams = TfidfVectorizer(ngram_range=(1,3),\n",
    "                                  analyzer=\"word\",binary=False,\n",
    "                                  max_features=8000)\n",
    "    clf = MultinomialNB()\n",
    "    pipeline = Pipeline([('vect',tfidf_ngrams),\n",
    "                        ('clf',clf)])\n",
    "    return pipeline"
   ]
  },
  {
   "cell_type": "code",
   "execution_count": 12,
   "metadata": {
    "collapsed": true
   },
   "outputs": [],
   "source": [
    "from sklearn.linear_model import LogisticRegression\n",
    "\n",
    "def create_lr_ngram_model():\n",
    "    tfidf_ngrams = TfidfVectorizer(ngram_range=(1,3),\n",
    "                                  analyzer=\"word\",binary=False,\n",
    "                                  max_features=8000)\n",
    "    clf = LogisticRegression()\n",
    "    pipeline = Pipeline([('vect',tfidf_ngrams),\n",
    "                        ('clf',clf)])\n",
    "    return pipeline"
   ]
  },
  {
   "cell_type": "code",
   "execution_count": 13,
   "metadata": {
    "collapsed": true
   },
   "outputs": [],
   "source": [
    "from sklearn.metrics import precision_recall_curve, auc\n",
    "from sklearn.cross_validation import ShuffleSplit\n",
    "\n",
    "def train_model(clf_factory, X, y):\n",
    "    cv = ShuffleSplit(n=len(X), n_iter=10, test_size=0.3,\n",
    "                    random_state=0)\n",
    "    \n",
    "    scores = []\n",
    "    pr_scores = []\n",
    "    \n",
    "    for train, test in cv:\n",
    "        X_t, y_t = X[train], y[train]\n",
    "        X_test, y_test = X[test], y[test]\n",
    "        \n",
    "        clf = clf_factory\n",
    "        clf.fit(X_t,y_t)\n",
    "        \n",
    "        train_score = clf.score(X_t,y_t)\n",
    "        test_score = clf.score(X_test,y_test)\n",
    "        \n",
    "        scores.append(test_score)\n",
    "        proba = clf.predict_proba(X_test)\n",
    "        \n",
    "        precision, recall, pr_thresholds = precision_recall_curve(y_test, proba[:,1])\n",
    "        \n",
    "        pr_scores.append(auc(recall,precision))\n",
    "    \n",
    "    summary = (np.mean(scores), np.std(scores),\n",
    "              np.mean(pr_scores), np.std(pr_scores))\n",
    "    \n",
    "    print summary"
   ]
  },
  {
   "cell_type": "code",
   "execution_count": 10,
   "metadata": {
    "collapsed": false
   },
   "outputs": [
    {
     "name": "stdout",
     "output_type": "stream",
     "text": [
      "(0.84532450331125841, 0.0031235820869899098, 0.92704051603722115, 0.0022478866102008887)\n"
     ]
    },
    {
     "name": "stderr",
     "output_type": "stream",
     "text": [
      "/usr/local/lib/python2.7/dist-packages/numpy/core/fromnumeric.py:2641: VisibleDeprecationWarning: `rank` is deprecated; use the `ndim` attribute or function instead. To find the rank of a matrix see `numpy.linalg.matrix_rank`.\n",
      "  VisibleDeprecationWarning)\n"
     ]
    }
   ],
   "source": [
    "pipeline = create_nb_ngram_model()\n",
    "train_model(pipeline,X_train,y_train)"
   ]
  },
  {
   "cell_type": "code",
   "execution_count": 14,
   "metadata": {
    "collapsed": false
   },
   "outputs": [
    {
     "name": "stdout",
     "output_type": "stream",
     "text": [
      "(0.86452980132450319, 0.0032220023379616793, 0.9400682185897844, 0.0022848491508089138)\n"
     ]
    }
   ],
   "source": [
    "pipeline = create_lr_ngram_model()\n",
    "train_model(pipeline,X_train,y_train)"
   ]
  },
  {
   "cell_type": "code",
   "execution_count": null,
   "metadata": {
    "collapsed": true
   },
   "outputs": [],
   "source": []
  }
 ],
 "metadata": {
  "kernelspec": {
   "display_name": "Python 2",
   "language": "python",
   "name": "python2"
  },
  "language_info": {
   "codemirror_mode": {
    "name": "ipython",
    "version": 2
   },
   "file_extension": ".py",
   "mimetype": "text/x-python",
   "name": "python",
   "nbconvert_exporter": "python",
   "pygments_lexer": "ipython2",
   "version": "2.7.6"
  }
 },
 "nbformat": 4,
 "nbformat_minor": 0
}
