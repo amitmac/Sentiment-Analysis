{
 "cells": [
  {
   "cell_type": "code",
   "execution_count": 2,
   "metadata": {
    "collapsed": false
   },
   "outputs": [
    {
     "data": {
      "text/plain": [
       "['kitchen_&_housewares',\n",
       " 'train_data.txt',\n",
       " 'baby',\n",
       " 'movie',\n",
       " 'books',\n",
       " 'test_data.txt',\n",
       " 'office_products',\n",
       " 'computer_&_video_games',\n",
       " 'dvd',\n",
       " 'train.txt',\n",
       " 'software']"
      ]
     },
     "execution_count": 2,
     "metadata": {},
     "output_type": "execute_result"
    }
   ],
   "source": [
    "import os\n",
    "parentdir = \"/home/amit/Downloads/amazon-review-data\"\n",
    "subdir = os.listdir(parentdir)\n",
    "subdir"
   ]
  },
  {
   "cell_type": "code",
   "execution_count": 119,
   "metadata": {
    "collapsed": true
   },
   "outputs": [],
   "source": [
    "train = open(parentdir+\"/train.txt\",'r')"
   ]
  },
  {
   "cell_type": "code",
   "execution_count": 120,
   "metadata": {
    "collapsed": true
   },
   "outputs": [],
   "source": [
    "def getdata(subpath,f):\n",
    "    if os.path.isfile(parentdir + \"/\" + subpath + \"/\" + f):\n",
    "        review_file = open(parentdir + \"/\" + subpath + \"/\" + f,\"r\")\n",
    "    else:\n",
    "        return\n",
    "    text = \"\"\n",
    "    for line in review_file:\n",
    "        text += line\n",
    "    \n",
    "    review_file.close()\n",
    "    \n",
    "    text = re.sub(\"\\n\",\"\",text)\n",
    "    rating_text = re.findall(\"<rating>([^>]*)<\\/rating>\",text)\n",
    "    review_text = re.findall(\"<review_text>([^>]*)<\\/review_text>\",text)\n",
    "    if len(rating_text) != len(review_text):\n",
    "        print \"WTF\"\n",
    "    for rating,review in zip(rating_text,review_text):\n",
    "        train.write(rating + '\\t' + review + '\\n') "
   ]
  },
  {
   "cell_type": "code",
   "execution_count": 121,
   "metadata": {
    "collapsed": false
   },
   "outputs": [],
   "source": [
    "import re\n",
    "for subpath in subdir:\n",
    "    if subpath != 'train.txt':\n",
    "        getdata(subpath,\"all.review\")\n",
    "getdata(\"books\",\"positive.review\")\n",
    "getdata(\"books\",\"negative.review\")"
   ]
  },
  {
   "cell_type": "code",
   "execution_count": 122,
   "metadata": {
    "collapsed": false
   },
   "outputs": [],
   "source": [
    "import pandas as pd       \n",
    "movie_review = pd.read_csv(parentdir + \"/movie/\" + \"labeledTrainData.tsv\", header=0, \\\n",
    "                    delimiter=\"\\t\", quoting=3)\n",
    "for i in range(len(movie_review)):\n",
    "    #print movie_review[\"sentiment\"][i],movie_review[\"review\"][i]\n",
    "    train.write(str(movie_review[\"sentiment\"][i]) + '\\t' + movie_review[\"review\"][i] + '\\n') \n",
    "train.close()"
   ]
  },
  {
   "cell_type": "code",
   "execution_count": 107,
   "metadata": {
    "collapsed": false
   },
   "outputs": [
    {
     "data": {
      "text/plain": [
       "25000"
      ]
     },
     "execution_count": 107,
     "metadata": {},
     "output_type": "execute_result"
    }
   ],
   "source": [
    "len(train)"
   ]
  },
  {
   "cell_type": "code",
   "execution_count": 35,
   "metadata": {
    "collapsed": true
   },
   "outputs": [],
   "source": [
    "import re"
   ]
  },
  {
   "cell_type": "code",
   "execution_count": 38,
   "metadata": {
    "collapsed": false
   },
   "outputs": [
    {
     "data": {
      "text/plain": [
       "1383178"
      ]
     },
     "execution_count": 38,
     "metadata": {},
     "output_type": "execute_result"
    }
   ],
   "source": [
    "text1 = re.sub(\"\\n\",\"\",text)\n",
    "len(text1)"
   ]
  },
  {
   "cell_type": "code",
   "execution_count": 56,
   "metadata": {
    "collapsed": false
   },
   "outputs": [],
   "source": [
    "ratings = re.findall(\"<rating>([^>]*)<\\/rating>\",text1)"
   ]
  },
  {
   "cell_type": "code",
   "execution_count": 57,
   "metadata": {
    "collapsed": false
   },
   "outputs": [
    {
     "data": {
      "text/plain": [
       "list"
      ]
     },
     "execution_count": 57,
     "metadata": {},
     "output_type": "execute_result"
    }
   ],
   "source": [
    "type(ratings)"
   ]
  },
  {
   "cell_type": "code",
   "execution_count": 58,
   "metadata": {
    "collapsed": false
   },
   "outputs": [
    {
     "data": {
      "text/plain": [
       "1000"
      ]
     },
     "execution_count": 58,
     "metadata": {},
     "output_type": "execute_result"
    }
   ],
   "source": [
    "len(ratings)"
   ]
  },
  {
   "cell_type": "code",
   "execution_count": 66,
   "metadata": {
    "collapsed": false
   },
   "outputs": [
    {
     "data": {
      "text/plain": [
       "748"
      ]
     },
     "execution_count": 66,
     "metadata": {},
     "output_type": "execute_result"
    }
   ],
   "source": [
    "sum([1 for x in ratings if x == '5.0'])"
   ]
  },
  {
   "cell_type": "code",
   "execution_count": 98,
   "metadata": {
    "collapsed": false
   },
   "outputs": [
    {
     "data": {
      "text/plain": [
       "[(1, 6), (2, 7), (3, 8), (4, 9)]"
      ]
     },
     "execution_count": 98,
     "metadata": {},
     "output_type": "execute_result"
    }
   ],
   "source": [
    "a = [1,2,3,4,5]\n",
    "b = [6,7,8,9]\n",
    "zip(a,b)"
   ]
  },
  {
   "cell_type": "code",
   "execution_count": 3,
   "metadata": {
    "collapsed": false
   },
   "outputs": [],
   "source": [
    "train = open(parentdir+\"/train.txt\",'r')"
   ]
  },
  {
   "cell_type": "code",
   "execution_count": 4,
   "metadata": {
    "collapsed": true
   },
   "outputs": [],
   "source": [
    "import numpy as np\n",
    "data = []\n",
    "for line in train:\n",
    "    data.append(line)"
   ]
  },
  {
   "cell_type": "code",
   "execution_count": 20,
   "metadata": {
    "collapsed": false
   },
   "outputs": [
    {
     "data": {
      "text/plain": [
       "181498"
      ]
     },
     "execution_count": 20,
     "metadata": {},
     "output_type": "execute_result"
    }
   ],
   "source": [
    "len(data)"
   ]
  },
  {
   "cell_type": "code",
   "execution_count": 6,
   "metadata": {
    "collapsed": false
   },
   "outputs": [
    {
     "data": {
      "text/plain": [
       "'2.0,I\\'ve been through FOUR of these expensive units. They work great on my Great Pyrenees dog. At least they work for awhile. Then I end up trying to figure out if the batteries are dead, then if the NEW batteries I put in were dead to begin with, and then I send it back for repair. Once I got back a unit that worked again - for awhile. Then I got back a unit that never worked again.I stopped sending in my broken units after that.So - in desperation, and impending poverty, I switched to a shock collar; it was either that or what my breeder calls a \"blue juice special\". It also worked - and yes, I tried it on myself and decided that it wasn\\'t cruel at all. But the punchline is this: the shock collars broke at about the same rate as the citronella collar. At least they were cheaper, so I didn\\'t lose as much money\\n'"
      ]
     },
     "execution_count": 6,
     "metadata": {},
     "output_type": "execute_result"
    }
   ],
   "source": [
    "data[0]"
   ]
  },
  {
   "cell_type": "code",
   "execution_count": 21,
   "metadata": {
    "collapsed": true
   },
   "outputs": [],
   "source": [
    "ratemap = {'1.0':0,'2.0':0,'3.0':0,'4.0':1,'5.0':1,'1':1,'0':0}"
   ]
  },
  {
   "cell_type": "code",
   "execution_count": 7,
   "metadata": {
    "collapsed": true
   },
   "outputs": [],
   "source": [
    "perm = np.random.permutation(len(data))"
   ]
  },
  {
   "cell_type": "code",
   "execution_count": 29,
   "metadata": {
    "collapsed": false
   },
   "outputs": [],
   "source": [
    "# Generate Positive Data\n",
    "train_pos_data = [data[i] for i in range(len(data)) if i in perm[:16000] and ratemap[data[i].partition(',')[0]] == 1]"
   ]
  },
  {
   "cell_type": "code",
   "execution_count": 25,
   "metadata": {
    "collapsed": true
   },
   "outputs": [],
   "source": [
    "# Generate Negetive Data\n",
    "train_neg_data = [data[i] for i in range(len(data)) if i in perm[20000:80000] and ratemap[data[i].partition(',')[0]] == 0]"
   ]
  },
  {
   "cell_type": "code",
   "execution_count": 30,
   "metadata": {
    "collapsed": false
   },
   "outputs": [
    {
     "name": "stdout",
     "output_type": "stream",
     "text": [
      "12680\n",
      "12486\n"
     ]
    }
   ],
   "source": [
    "print len(train_pos_data)\n",
    "print len(train_neg_data)"
   ]
  },
  {
   "cell_type": "code",
   "execution_count": 12,
   "metadata": {
    "collapsed": false
   },
   "outputs": [
    {
     "name": "stdout",
     "output_type": "stream",
     "text": [
      "<type 'list'>\n"
     ]
    }
   ],
   "source": [
    "print type(train_data)"
   ]
  },
  {
   "cell_type": "code",
   "execution_count": 31,
   "metadata": {
    "collapsed": true
   },
   "outputs": [],
   "source": [
    "train_file = open(parentdir + \"/train_data_25K.txt\",'w')"
   ]
  },
  {
   "cell_type": "code",
   "execution_count": 32,
   "metadata": {
    "collapsed": true
   },
   "outputs": [],
   "source": [
    "for line in train_pos_data:\n",
    "    train_file.write(line)\n",
    "for line in train_neg_data:\n",
    "    train_file.write(line)"
   ]
  },
  {
   "cell_type": "code",
   "execution_count": 33,
   "metadata": {
    "collapsed": true
   },
   "outputs": [],
   "source": []
  },
  {
   "cell_type": "code",
   "execution_count": 38,
   "metadata": {
    "collapsed": true
   },
   "outputs": [],
   "source": [
    "test_pos_data = [data[i] for i in range(len(data)) if i in perm[20000:50000] and ratemap[data[i].partition(',')[0]] == 1]\n",
    "test_neg_data = [data[i] for i in range(len(data)) if i in perm[80000:] and ratemap[data[i].partition(',')[0]] == 0]"
   ]
  },
  {
   "cell_type": "code",
   "execution_count": 39,
   "metadata": {
    "collapsed": false
   },
   "outputs": [
    {
     "name": "stdout",
     "output_type": "stream",
     "text": [
      "23747\n",
      "21001\n"
     ]
    }
   ],
   "source": [
    "print len(test_pos_data)\n",
    "print len(test_neg_data)"
   ]
  },
  {
   "cell_type": "code",
   "execution_count": 40,
   "metadata": {
    "collapsed": true
   },
   "outputs": [],
   "source": [
    "test_file = open(parentdir + \"/test_data_44K.txt\",'w')"
   ]
  },
  {
   "cell_type": "code",
   "execution_count": 41,
   "metadata": {
    "collapsed": true
   },
   "outputs": [],
   "source": [
    "for line in test_pos_data:\n",
    "    test_file.write(line)\n",
    "for line in test_neg_data:\n",
    "    test_file.write(line)"
   ]
  },
  {
   "cell_type": "code",
   "execution_count": 42,
   "metadata": {
    "collapsed": true
   },
   "outputs": [],
   "source": [
    "train_file.close()\n",
    "test_file.close()"
   ]
  },
  {
   "cell_type": "code",
   "execution_count": 34,
   "metadata": {
    "collapsed": true
   },
   "outputs": [],
   "source": [
    "path = \"/home/amit/Downloads/amazon-review-data/train_data_25K.txt\""
   ]
  },
  {
   "cell_type": "code",
   "execution_count": null,
   "metadata": {
    "collapsed": true
   },
   "outputs": [],
   "source": []
  },
  {
   "cell_type": "code",
   "execution_count": 35,
   "metadata": {
    "collapsed": false
   },
   "outputs": [
    {
     "name": "stdout",
     "output_type": "stream",
     "text": [
      "12486 12680\n"
     ]
    }
   ],
   "source": [
    "y_0 = 0\n",
    "y_1 = 0\n",
    "f = open(path)\n",
    "for line in f:\n",
    "    rating = line.split(',')[0]\n",
    "    if rating in ratemap.keys():\n",
    "        rating = ratemap[rating]\n",
    "    if rating == 0:\n",
    "        y_0 += 1\n",
    "    elif rating == 1:\n",
    "        y_1 += 1\n",
    "\n",
    "print y_0,y_1"
   ]
  },
  {
   "cell_type": "code",
   "execution_count": null,
   "metadata": {
    "collapsed": true
   },
   "outputs": [],
   "source": []
  }
 ],
 "metadata": {
  "kernelspec": {
   "display_name": "Python 2",
   "language": "python",
   "name": "python2"
  },
  "language_info": {
   "codemirror_mode": {
    "name": "ipython",
    "version": 2
   },
   "file_extension": ".py",
   "mimetype": "text/x-python",
   "name": "python",
   "nbconvert_exporter": "python",
   "pygments_lexer": "ipython2",
   "version": "2.7.6"
  }
 },
 "nbformat": 4,
 "nbformat_minor": 0
}
